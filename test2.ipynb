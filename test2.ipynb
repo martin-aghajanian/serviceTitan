{
 "cells": [
  {
   "cell_type": "code",
   "execution_count": 5,
   "id": "5735f684-3c23-493a-86ac-8330ecc8ff39",
   "metadata": {},
   "outputs": [],
   "source": [
    "import pandas as pd\n",
    "import pickle\n",
    "from datetime import datetime"
   ]
  },
  {
   "cell_type": "markdown",
   "id": "ad865e86-04e6-457e-9fbe-b487da44f1c0",
   "metadata": {},
   "source": [
    "### test"
   ]
  },
  {
   "cell_type": "code",
   "execution_count": 6,
   "id": "58055c53-d36c-4f23-b79f-398218f957c8",
   "metadata": {
    "scrolled": true
   },
   "outputs": [
    {
     "name": "stdout",
     "output_type": "stream",
     "text": [
      "         id  created_on                                              items\n",
      "0   365371O  2019-05-27  [{'item': {'id': 142446, 'name': 'ii_142446', ...\n",
      "1    389528  2019-03-19  [{'item': {'id': 172535, 'name': 'ii_172535', ...\n",
      "2    341762  2019-06-19  [{'item': {'id': 143176, 'name': 'ii_143176', ...\n",
      "3    319405  2019-03-27  [{'item': {'id': 141009, 'name': 'ii_141009', ...\n",
      "4    343695  2019-04-10  [{'item': {'id': 144025, 'name': 'ii_144025', ...\n",
      "..      ...         ...                                                ...\n",
      "95   356552  2019-03-21  [{'item': {'id': 112495, 'name': 'ii_112495', ...\n",
      "96   306163  2019-09-18  [{'item': {'id': 136017, 'name': 'ii_136017', ...\n",
      "97  373375O  2019-08-24  [{'item': {'id': 180383, 'name': 'ii_180383', ...\n",
      "98   321243  2019-05-26  [{'item': {'id': 124775, 'name': 'ii_124775', ...\n",
      "99   377960  2019-02-22  [{'item': {'id': 123242, 'name': 'ii_123242', ...\n",
      "\n",
      "[100 rows x 3 columns]\n"
     ]
    }
   ],
   "source": [
    "with open('data/invoices_new.pkl', 'rb') as f:\n",
    "        test_invoices = pickle.load(f)\n",
    "\n",
    "test_df = pd.DataFrame(test_invoices)\n",
    "print(test_df)"
   ]
  },
  {
   "cell_type": "code",
   "execution_count": 7,
   "id": "013a2889-2b10-4ac3-95c8-bba2d2f83960",
   "metadata": {},
   "outputs": [
    {
     "data": {
      "text/plain": [
       "[{'item': {'id': 143176, 'name': 'ii_143176', 'unit_price': 175, 'type': 2},\n",
       "  'quantity': 2},\n",
       " {'item': {'id': 161765, 'name': 'ii_161765', 'unit_price': 170, 'type': 2},\n",
       "  'quantity': 8},\n",
       " {'item': {'id': 167763, 'name': 'ii_167763', 'unit_price': 150, 'type': 3},\n",
       "  'quantity': 5},\n",
       " {'item': {'id': 195203, 'name': 'ii_195203', 'unit_price': 194, 'type': 0},\n",
       "  'quantity': 3},\n",
       " {'item': {'id': 188321, 'name': 'ii_188321', 'unit_price': 101, 'type': 3},\n",
       "  'quantity': 1},\n",
       " {'item': {'id': 114990, 'name': 'ii_114990', 'unit_price': 132, 'type': 3},\n",
       "  'quantity': 2},\n",
       " {'item': {'id': 126940, 'name': 'ii_126940', 'unit_price': 166, 'type': 0},\n",
       "  'quantity': 3}]"
      ]
     },
     "execution_count": 7,
     "metadata": {},
     "output_type": "execute_result"
    }
   ],
   "source": [
    "test_df['items'].iloc[2]"
   ]
  },
  {
   "cell_type": "markdown",
   "id": "3433a09b-60b8-4739-891a-7d15b781b04a",
   "metadata": {},
   "source": [
    "# DataExtractor class"
   ]
  },
  {
   "cell_type": "code",
   "execution_count": 12,
   "id": "39c419de-5e67-4647-a104-009b089d8436",
   "metadata": {},
   "outputs": [],
   "source": [
    "class DataExtractor:\n",
    "\n",
    "    def __init__(self, invoice_file, expired_ids_file):\n",
    "        self.invoice_file = invoice_file\n",
    "        self.expired_ids_file = expired_ids_file\n",
    "        self.invoices = None\n",
    "        self.expired_ids = None\n",
    "\n",
    "\n",
    "    def load_data(self):\n",
    "\n",
    "        with open(self.invoice_file, 'rb') as f:\n",
    "            self.invoices = pickle.load(f)\n",
    "\n",
    "        \n",
    "\n",
    "        with open(self.expired_ids_file, 'r') as f:\n",
    "            ids = f.read()\n",
    "            self.expired_ids = list(ids.split(', '))\n",
    "\n",
    "    def transform_data(self):\n",
    "\n",
    "        type_conversion = {0: 'Material', 1: 'Equipment', 2: 'Service', 3: 'Other'}\n",
    "\n",
    "        transformed_data  = []\n",
    "\n",
    "\n",
    "        # logic:\n",
    "        # for each invoice in invoices, set the invoice_id, created_on, is_expired (true if its contained in expired_ids)\n",
    "        # each row in 'items' is a list of dictionaries, each dictionary has the keys 'item' and 'quantity'\n",
    "        # the value for each key 'item' is a dictionary itself containing other keys \n",
    "        # for total_invoice_price we need to multiply 'unit_price\" by 'quantity'\n",
    "        # and for invoiceitem_id and invoiceitem_name a list\n",
    "        #\n",
    "        # code is unfortanately not complete and has errors regarding assigning the items\n",
    "\n",
    "        \n",
    "        for invoice in self.invoices:\n",
    "    \n",
    "            invoice_id = invoice['id']\n",
    "            created_on = pd.to_datetime(invoice['created_on'])\n",
    "            is_expired = invoice_id in self.expired_ids\n",
    "    \n",
    "           \n",
    "    \n",
    "    \n",
    "            for item in invoice['items']:\n",
    "                 \n",
    "                invoice_id, invoiceitem_id, invoiceitem_name, type, unit_price = [],[],[],[],[]\n",
    "                total_invoice_price = 0\n",
    "                for item2 in item:\n",
    "                    invoiceitem_id.append(item2['id'])\n",
    "                    invoiceitem_id.append(item2['name'])\n",
    "                    type.append(type_conversion[item2['type']])\n",
    "                    unit_price.append(item2['unit_price'])\n",
    "                    total_price = item2['unit_price'] * item['quantity']\n",
    "\n",
    "                    total_invoice_price =+ total_price\n",
    "                                \n",
    "                percentage_in_invoice = total_price / total_invoice_price\n",
    "    \n",
    "    \n",
    "                transformed_data.append([\n",
    "                    invoice_id,\n",
    "                    invoiceitem_id,\n",
    "                    invoiceitem_name,\n",
    "                    created_on,\n",
    "                    is_expired,\n",
    "                    type,\n",
    "                    unit_price,\n",
    "                    total_price,\n",
    "                    percentage_in_invoice\n",
    "                    \n",
    "                ])\n",
    "\n",
    "        \n",
    "    \n",
    "        df = pd.DataFrame(transfromed_data, columns = columns)\n",
    "    \n",
    "        df['invoice_id'] = df['invoice_id'].astype(int)\n",
    "        \n",
    "        # chatgpt citation:\n",
    "        # prompt: ensure the columns of the dataframe df are as the same type mentioned below similiar to this code: df['invoice_id'] = df['invoice_id'].astype(int)\n",
    "        #         invoice_id: int\n",
    "        #         created_on: datetime64[ns]\n",
    "        #         invoiceitem_id: int\n",
    "        #         invoiceitem_name: str\n",
    "        #         type: str (use this conversion table: {0: 'Material', 1: 'Equipment', 2: 'Service', 3: 'Other'})\n",
    "        #         unit_price: int\n",
    "        #         total_price: int (unit_price*quantity)\n",
    "        #         percentage_in_invoice: float (unit_price*quantity / invoice_total)\n",
    "        #         is_expired: bool (whether invoice_id is contained expired_invoices.txt or not)\n",
    "    \n",
    "    \n",
    "        df['invoice_id'] = df['invoice_id'].astype(int)\n",
    "        df['invoiceitem_id'] = df['invoiceitem_id'].astype(int)\n",
    "        df['invoiceitem_name'] = df['invoiceitem_name'].astype(str)\n",
    "        df['created_on'] = pd.to_datetime(df['created_on'])\n",
    "        df['is_expired'] = df['is_expired'].astype(bool)\n",
    "        df['type'] = df['type'].astype(str)\n",
    "        df['unit_price'] = df['unit_price'].astype(int)\n",
    "        df['total_price'] = df['total_price'].astype(int)\n",
    "        df['percentage_in_invoice'] = df['percentage_in_invoice'].astype(float)\n",
    "\n",
    "        df = df.sort_values(by=['invoice_id', 'invoiceitem_id']).reset_index(drop=True)\n",
    "\n",
    "        return df\n",
    "\n",
    "\n",
    "    "
   ]
  },
  {
   "cell_type": "code",
   "execution_count": 13,
   "id": "50e3ce86-df02-4930-ac59-34d27a71732d",
   "metadata": {},
   "outputs": [
    {
     "ename": "TypeError",
     "evalue": "string indices must be integers, not 'str'",
     "output_type": "error",
     "traceback": [
      "\u001b[0;31m---------------------------------------------------------------------------\u001b[0m",
      "\u001b[0;31mTypeError\u001b[0m                                 Traceback (most recent call last)",
      "Cell \u001b[0;32mIn[13], line 7\u001b[0m\n\u001b[1;32m      4\u001b[0m data_extractor \u001b[38;5;241m=\u001b[39m DataExtractor(invoice_file, expired_ids_file)\n\u001b[1;32m      5\u001b[0m data_extractor\u001b[38;5;241m.\u001b[39mload_data()\n\u001b[0;32m----> 7\u001b[0m transformed_df \u001b[38;5;241m=\u001b[39m \u001b[43mdata_extractor\u001b[49m\u001b[38;5;241;43m.\u001b[39;49m\u001b[43mtransform_data\u001b[49m\u001b[43m(\u001b[49m\u001b[43m)\u001b[49m\n",
      "Cell \u001b[0;32mIn[12], line 52\u001b[0m, in \u001b[0;36mDataExtractor.transform_data\u001b[0;34m(self)\u001b[0m\n\u001b[1;32m     50\u001b[0m total_invoice_price \u001b[38;5;241m=\u001b[39m \u001b[38;5;241m0\u001b[39m\n\u001b[1;32m     51\u001b[0m \u001b[38;5;28;01mfor\u001b[39;00m item2 \u001b[38;5;129;01min\u001b[39;00m item:\n\u001b[0;32m---> 52\u001b[0m     invoiceitem_id\u001b[38;5;241m.\u001b[39mappend(\u001b[43mitem2\u001b[49m\u001b[43m[\u001b[49m\u001b[38;5;124;43m'\u001b[39;49m\u001b[38;5;124;43mid\u001b[39;49m\u001b[38;5;124;43m'\u001b[39;49m\u001b[43m]\u001b[49m)\n\u001b[1;32m     53\u001b[0m     invoiceitem_id\u001b[38;5;241m.\u001b[39mappend(item2[\u001b[38;5;124m'\u001b[39m\u001b[38;5;124mname\u001b[39m\u001b[38;5;124m'\u001b[39m])\n\u001b[1;32m     54\u001b[0m     \u001b[38;5;28mtype\u001b[39m\u001b[38;5;241m.\u001b[39mappend(type_conversion[item2[\u001b[38;5;124m'\u001b[39m\u001b[38;5;124mtype\u001b[39m\u001b[38;5;124m'\u001b[39m]])\n",
      "\u001b[0;31mTypeError\u001b[0m: string indices must be integers, not 'str'"
     ]
    }
   ],
   "source": [
    "invoice_file = 'data/invoices_new.pkl'\n",
    "expired_ids_file = 'data/expired_invoices.txt'\n",
    "\n",
    "data_extractor = DataExtractor(invoice_file, expired_ids_file)\n",
    "data_extractor.load_data()\n",
    "\n",
    "transformed_df = data_extractor.transform_data()"
   ]
  },
  {
   "cell_type": "code",
   "execution_count": 65,
   "id": "463c693d-df98-4ec3-b0dc-caf10a7a69ca",
   "metadata": {},
   "outputs": [
    {
     "ename": "NameError",
     "evalue": "name 'transformed_df' is not defined",
     "output_type": "error",
     "traceback": [
      "\u001b[0;31m---------------------------------------------------------------------------\u001b[0m",
      "\u001b[0;31mNameError\u001b[0m                                 Traceback (most recent call last)",
      "Cell \u001b[0;32mIn[65], line 1\u001b[0m\n\u001b[0;32m----> 1\u001b[0m \u001b[43mtransformed_df\u001b[49m\n",
      "\u001b[0;31mNameError\u001b[0m: name 'transformed_df' is not defined"
     ]
    }
   ],
   "source": [
    "transformed_df"
   ]
  },
  {
   "cell_type": "code",
   "execution_count": null,
   "id": "f1589c52-e5c1-41a2-b538-aebedd836e8c",
   "metadata": {},
   "outputs": [],
   "source": []
  }
 ],
 "metadata": {
  "kernelspec": {
   "display_name": "Python 3 (ipykernel)",
   "language": "python",
   "name": "python3"
  },
  "language_info": {
   "codemirror_mode": {
    "name": "ipython",
    "version": 3
   },
   "file_extension": ".py",
   "mimetype": "text/x-python",
   "name": "python",
   "nbconvert_exporter": "python",
   "pygments_lexer": "ipython3",
   "version": "3.11.5"
  }
 },
 "nbformat": 4,
 "nbformat_minor": 5
}
